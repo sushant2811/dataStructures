{
 "cells": [
  {
   "cell_type": "code",
   "execution_count": 1,
   "metadata": {
    "collapsed": true
   },
   "outputs": [],
   "source": [
    "import numpy as np"
   ]
  },
  {
   "cell_type": "code",
   "execution_count": 3,
   "metadata": {},
   "outputs": [],
   "source": [
    "A = np.zeros((3,3))"
   ]
  },
  {
   "cell_type": "code",
   "execution_count": 4,
   "metadata": {},
   "outputs": [
    {
     "data": {
      "text/plain": [
       "0.0"
      ]
     },
     "execution_count": 4,
     "metadata": {},
     "output_type": "execute_result"
    }
   ],
   "source": [
    "A[2][2]"
   ]
  },
  {
   "cell_type": "code",
   "execution_count": 95,
   "metadata": {
    "collapsed": true
   },
   "outputs": [],
   "source": [
    "class Graph:\n",
    "    \n",
    "    def __init__(self, numOfNodes):\n",
    "        \n",
    "        self.__adjMat__ = None\n",
    "        self.__numberNodes__ = numOfNodes\n",
    "        \n",
    "        self.__adjMat__ = np.zeros((self.__numberNodes__, self.__numberNodes__))\n",
    "        \n",
    "        \n",
    "    def getNumOfNodes(self):\n",
    "        \n",
    "        return self.__numberNodes__\n",
    "\n",
    "    \n",
    "    def addEdge(self, vertex1, vertex2):\n",
    "        \n",
    "        if self.isEdgeValid(vertex1, vertex2):\n",
    "            \n",
    "            self.__adjMat__[vertex1][vertex2] = 1\n",
    "            \n",
    "            return\n",
    "\n",
    "        print(\"Invalid vertices!\")\n",
    "        \n",
    "        return \n",
    "        \n",
    "        \n",
    "    def printGraph(self):\n",
    "        \n",
    "        for i in range(0, self.__numberNodes__):\n",
    "            \n",
    "            print(\"Node {} connected to {}\".format(i, np.where(self.__adjMat__[i] > 0)[0].tolist()))\n",
    "            \n",
    "            \n",
    "    def isConnected(self, vertex1, vertex2):\n",
    "        \n",
    "        if self.isEdgeValid(vertex1, vertex2):\n",
    "        \n",
    "            if self.__adjMat__[vertex1][vertex2] == 0:\n",
    "\n",
    "                return False\n",
    "\n",
    "            return True\n",
    "        \n",
    "        print(\"Invalid vertices!\")\n",
    "        \n",
    "        return False\n",
    "    \n",
    "    def isEdgeValid(self, vertex1, vertex2):\n",
    "        \n",
    "        if vertex1 in range(self.__numberNodes__) and vertex2 in range(self.__numberNodes__):\n",
    "            \n",
    "            return True\n",
    "        \n",
    "        return False\n",
    "        "
   ]
  },
  {
   "cell_type": "code",
   "execution_count": 96,
   "metadata": {
    "collapsed": true
   },
   "outputs": [],
   "source": [
    "g = Graph(5)"
   ]
  },
  {
   "cell_type": "code",
   "execution_count": 97,
   "metadata": {},
   "outputs": [
    {
     "data": {
      "text/plain": [
       "array([[ 0.,  0.,  0.,  0.,  0.],\n",
       "       [ 0.,  0.,  0.,  0.,  0.],\n",
       "       [ 0.,  0.,  0.,  0.,  0.],\n",
       "       [ 0.,  0.,  0.,  0.,  0.],\n",
       "       [ 0.,  0.,  0.,  0.,  0.]])"
      ]
     },
     "execution_count": 97,
     "metadata": {},
     "output_type": "execute_result"
    }
   ],
   "source": [
    "g.__adjMat__"
   ]
  },
  {
   "cell_type": "code",
   "execution_count": 98,
   "metadata": {},
   "outputs": [
    {
     "data": {
      "text/plain": [
       "5"
      ]
     },
     "execution_count": 98,
     "metadata": {},
     "output_type": "execute_result"
    }
   ],
   "source": [
    "g.getNumOfNodes()"
   ]
  },
  {
   "cell_type": "code",
   "execution_count": 99,
   "metadata": {},
   "outputs": [],
   "source": [
    "g.addEdge(0, 1)\n",
    "g.addEdge(0, 4)\n",
    "g.addEdge(1, 0)\n",
    "g.addEdge(1, 2)\n",
    "g.addEdge(1, 3)\n",
    "g.addEdge(1, 4)\n",
    "g.addEdge(2, 1)\n",
    "g.addEdge(2, 3)\n",
    "g.addEdge(3, 1)\n",
    "g.addEdge(3, 2)\n",
    "g.addEdge(3, 4)\n",
    "g.addEdge(4, 0)\n",
    "g.addEdge(4, 1)\n",
    "g.addEdge(4, 3)"
   ]
  },
  {
   "cell_type": "code",
   "execution_count": 100,
   "metadata": {},
   "outputs": [
    {
     "name": "stdout",
     "output_type": "stream",
     "text": [
      "Node 0 connected to [1, 4]\n",
      "Node 1 connected to [0, 2, 3, 4]\n",
      "Node 2 connected to [1, 3]\n",
      "Node 3 connected to [1, 2, 4]\n",
      "Node 4 connected to [0, 1, 3]\n"
     ]
    }
   ],
   "source": [
    "g.printGraph()"
   ]
  },
  {
   "cell_type": "code",
   "execution_count": 101,
   "metadata": {},
   "outputs": [
    {
     "data": {
      "text/plain": [
       "False"
      ]
     },
     "execution_count": 101,
     "metadata": {},
     "output_type": "execute_result"
    }
   ],
   "source": [
    "g.isConnected(0, 2)"
   ]
  },
  {
   "cell_type": "code",
   "execution_count": 102,
   "metadata": {},
   "outputs": [
    {
     "data": {
      "text/plain": [
       "False"
      ]
     },
     "execution_count": 102,
     "metadata": {},
     "output_type": "execute_result"
    }
   ],
   "source": [
    "g.isEdgeValid(-1, 6)"
   ]
  },
  {
   "cell_type": "code",
   "execution_count": 103,
   "metadata": {},
   "outputs": [
    {
     "name": "stdout",
     "output_type": "stream",
     "text": [
      "Invalid vertices!\n"
     ]
    },
    {
     "data": {
      "text/plain": [
       "False"
      ]
     },
     "execution_count": 103,
     "metadata": {},
     "output_type": "execute_result"
    }
   ],
   "source": [
    "g.isConnected(-1, 6)"
   ]
  },
  {
   "cell_type": "code",
   "execution_count": 104,
   "metadata": {},
   "outputs": [
    {
     "name": "stdout",
     "output_type": "stream",
     "text": [
      "Invalid vertices!\n"
     ]
    }
   ],
   "source": [
    "g.addEdge(-1, 8)"
   ]
  },
  {
   "cell_type": "code",
   "execution_count": null,
   "metadata": {
    "collapsed": true
   },
   "outputs": [],
   "source": []
  }
 ],
 "metadata": {
  "kernelspec": {
   "display_name": "Python 3",
   "language": "python",
   "name": "python3"
  },
  "language_info": {
   "codemirror_mode": {
    "name": "ipython",
    "version": 3
   },
   "file_extension": ".py",
   "mimetype": "text/x-python",
   "name": "python",
   "nbconvert_exporter": "python",
   "pygments_lexer": "ipython3",
   "version": "3.6.3"
  }
 },
 "nbformat": 4,
 "nbformat_minor": 2
}
