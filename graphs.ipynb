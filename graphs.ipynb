{
 "cells": [
  {
   "cell_type": "code",
   "execution_count": 1,
   "metadata": {
    "collapsed": true
   },
   "outputs": [],
   "source": [
    "import numpy as np"
   ]
  },
  {
   "cell_type": "code",
   "execution_count": 3,
   "metadata": {},
   "outputs": [],
   "source": [
    "A = np.zeros((3,3))"
   ]
  },
  {
   "cell_type": "code",
   "execution_count": 4,
   "metadata": {},
   "outputs": [
    {
     "data": {
      "text/plain": [
       "0.0"
      ]
     },
     "execution_count": 4,
     "metadata": {},
     "output_type": "execute_result"
    }
   ],
   "source": [
    "A[2][2]"
   ]
  },
  {
   "cell_type": "code",
   "execution_count": 95,
   "metadata": {
    "collapsed": true
   },
   "outputs": [],
   "source": [
    "class Graph:\n",
    "    \n",
    "    def __init__(self, numOfNodes):\n",
    "        \n",
    "        self.__numberNodes__ = numOfNodes\n",
    "        \n",
    "        self.__adjMat__ = np.zeros((self.__numberNodes__, self.__numberNodes__))\n",
    "        \n",
    "        \n",
    "    def getNumOfNodes(self):\n",
    "        \n",
    "        return self.__numberNodes__\n",
    "\n",
    "    \n",
    "    def addEdge(self, vertex1, vertex2):\n",
    "        \n",
    "        if self.isEdgeValid(vertex1, vertex2):\n",
    "            \n",
    "            self.__adjMat__[vertex1][vertex2] = 1\n",
    "            \n",
    "            return\n",
    "\n",
    "        print(\"Invalid vertices!\")\n",
    "        \n",
    "        return \n",
    "        \n",
    "        \n",
    "    def printGraph(self):\n",
    "        \n",
    "        for i in range(0, self.__numberNodes__):\n",
    "            \n",
    "            print(\"Node {} connected to {}\".format(i, np.where(self.__adjMat__[i] > 0)[0].tolist()))\n",
    "            \n",
    "            \n",
    "    def isConnected(self, vertex1, vertex2):\n",
    "        \n",
    "        if self.isEdgeValid(vertex1, vertex2):\n",
    "        \n",
    "            if self.__adjMat__[vertex1][vertex2] == 0:\n",
    "\n",
    "                return False\n",
    "\n",
    "            return True\n",
    "        \n",
    "        print(\"Invalid vertices!\")\n",
    "        \n",
    "        return False\n",
    "    \n",
    "    def isEdgeValid(self, vertex1, vertex2):\n",
    "        \n",
    "        if vertex1 in range(self.__numberNodes__) and vertex2 in range(self.__numberNodes__):\n",
    "            \n",
    "            return True\n",
    "        \n",
    "        return False\n",
    "        "
   ]
  },
  {
   "cell_type": "code",
   "execution_count": 96,
   "metadata": {
    "collapsed": true
   },
   "outputs": [],
   "source": [
    "g = Graph(5)"
   ]
  },
  {
   "cell_type": "code",
   "execution_count": 97,
   "metadata": {},
   "outputs": [
    {
     "data": {
      "text/plain": [
       "array([[ 0.,  0.,  0.,  0.,  0.],\n",
       "       [ 0.,  0.,  0.,  0.,  0.],\n",
       "       [ 0.,  0.,  0.,  0.,  0.],\n",
       "       [ 0.,  0.,  0.,  0.,  0.],\n",
       "       [ 0.,  0.,  0.,  0.,  0.]])"
      ]
     },
     "execution_count": 97,
     "metadata": {},
     "output_type": "execute_result"
    }
   ],
   "source": [
    "g.__adjMat__"
   ]
  },
  {
   "cell_type": "code",
   "execution_count": 98,
   "metadata": {},
   "outputs": [
    {
     "data": {
      "text/plain": [
       "5"
      ]
     },
     "execution_count": 98,
     "metadata": {},
     "output_type": "execute_result"
    }
   ],
   "source": [
    "g.getNumOfNodes()"
   ]
  },
  {
   "cell_type": "code",
   "execution_count": 99,
   "metadata": {},
   "outputs": [],
   "source": [
    "g.addEdge(0, 1)\n",
    "g.addEdge(0, 4)\n",
    "g.addEdge(1, 0)\n",
    "g.addEdge(1, 2)\n",
    "g.addEdge(1, 3)\n",
    "g.addEdge(1, 4)\n",
    "g.addEdge(2, 1)\n",
    "g.addEdge(2, 3)\n",
    "g.addEdge(3, 1)\n",
    "g.addEdge(3, 2)\n",
    "g.addEdge(3, 4)\n",
    "g.addEdge(4, 0)\n",
    "g.addEdge(4, 1)\n",
    "g.addEdge(4, 3)"
   ]
  },
  {
   "cell_type": "code",
   "execution_count": 100,
   "metadata": {},
   "outputs": [
    {
     "name": "stdout",
     "output_type": "stream",
     "text": [
      "Node 0 connected to [1, 4]\n",
      "Node 1 connected to [0, 2, 3, 4]\n",
      "Node 2 connected to [1, 3]\n",
      "Node 3 connected to [1, 2, 4]\n",
      "Node 4 connected to [0, 1, 3]\n"
     ]
    }
   ],
   "source": [
    "g.printGraph()"
   ]
  },
  {
   "cell_type": "code",
   "execution_count": 101,
   "metadata": {},
   "outputs": [
    {
     "data": {
      "text/plain": [
       "False"
      ]
     },
     "execution_count": 101,
     "metadata": {},
     "output_type": "execute_result"
    }
   ],
   "source": [
    "g.isConnected(0, 2)"
   ]
  },
  {
   "cell_type": "code",
   "execution_count": 102,
   "metadata": {},
   "outputs": [
    {
     "data": {
      "text/plain": [
       "False"
      ]
     },
     "execution_count": 102,
     "metadata": {},
     "output_type": "execute_result"
    }
   ],
   "source": [
    "g.isEdgeValid(-1, 6)"
   ]
  },
  {
   "cell_type": "code",
   "execution_count": 103,
   "metadata": {},
   "outputs": [
    {
     "name": "stdout",
     "output_type": "stream",
     "text": [
      "Invalid vertices!\n"
     ]
    },
    {
     "data": {
      "text/plain": [
       "False"
      ]
     },
     "execution_count": 103,
     "metadata": {},
     "output_type": "execute_result"
    }
   ],
   "source": [
    "g.isConnected(-1, 6)"
   ]
  },
  {
   "cell_type": "code",
   "execution_count": 104,
   "metadata": {},
   "outputs": [
    {
     "name": "stdout",
     "output_type": "stream",
     "text": [
      "Invalid vertices!\n"
     ]
    }
   ],
   "source": [
    "g.addEdge(-1, 8)"
   ]
  },
  {
   "cell_type": "code",
   "execution_count": 105,
   "metadata": {
    "collapsed": true
   },
   "outputs": [],
   "source": [
    "d = {0: [1, 2], 1: [0, 2, 3, 4]}"
   ]
  },
  {
   "cell_type": "code",
   "execution_count": 106,
   "metadata": {},
   "outputs": [
    {
     "data": {
      "text/plain": [
       "dict_keys([0, 1])"
      ]
     },
     "execution_count": 106,
     "metadata": {},
     "output_type": "execute_result"
    }
   ],
   "source": [
    "d.keys()"
   ]
  },
  {
   "cell_type": "code",
   "execution_count": 107,
   "metadata": {},
   "outputs": [
    {
     "data": {
      "text/plain": [
       "dict_values([[1, 2], [0, 2, 3, 4]])"
      ]
     },
     "execution_count": 107,
     "metadata": {},
     "output_type": "execute_result"
    }
   ],
   "source": [
    "d.values()"
   ]
  },
  {
   "cell_type": "code",
   "execution_count": 108,
   "metadata": {},
   "outputs": [
    {
     "data": {
      "text/plain": [
       "2"
      ]
     },
     "execution_count": 108,
     "metadata": {},
     "output_type": "execute_result"
    }
   ],
   "source": [
    "len(d.keys())"
   ]
  },
  {
   "cell_type": "code",
   "execution_count": 109,
   "metadata": {},
   "outputs": [
    {
     "data": {
      "text/plain": [
       "[1, 2]"
      ]
     },
     "execution_count": 109,
     "metadata": {},
     "output_type": "execute_result"
    }
   ],
   "source": [
    "d[0]"
   ]
  },
  {
   "cell_type": "code",
   "execution_count": 110,
   "metadata": {
    "collapsed": true
   },
   "outputs": [],
   "source": [
    "d[0].append(3)"
   ]
  },
  {
   "cell_type": "code",
   "execution_count": 111,
   "metadata": {},
   "outputs": [
    {
     "data": {
      "text/plain": [
       "[1, 2, 3]"
      ]
     },
     "execution_count": 111,
     "metadata": {},
     "output_type": "execute_result"
    }
   ],
   "source": [
    "d[0]"
   ]
  },
  {
   "cell_type": "code",
   "execution_count": 112,
   "metadata": {},
   "outputs": [
    {
     "ename": "KeyError",
     "evalue": "2",
     "output_type": "error",
     "traceback": [
      "\u001b[0;31m---------------------------------------------------------------------------\u001b[0m",
      "\u001b[0;31mKeyError\u001b[0m                                  Traceback (most recent call last)",
      "\u001b[0;32m<ipython-input-112-7fe6ad060ff6>\u001b[0m in \u001b[0;36m<module>\u001b[0;34m()\u001b[0m\n\u001b[0;32m----> 1\u001b[0;31m \u001b[0md\u001b[0m\u001b[0;34m[\u001b[0m\u001b[0;36m2\u001b[0m\u001b[0;34m]\u001b[0m\u001b[0;34m\u001b[0m\u001b[0m\n\u001b[0m",
      "\u001b[0;31mKeyError\u001b[0m: 2"
     ]
    }
   ],
   "source": [
    "d[2]"
   ]
  },
  {
   "cell_type": "code",
   "execution_count": 113,
   "metadata": {},
   "outputs": [
    {
     "data": {
      "text/plain": [
       "True"
      ]
     },
     "execution_count": 113,
     "metadata": {},
     "output_type": "execute_result"
    }
   ],
   "source": [
    "1 in d.keys()"
   ]
  },
  {
   "cell_type": "code",
   "execution_count": 139,
   "metadata": {
    "collapsed": true
   },
   "outputs": [],
   "source": [
    "s1 = {1, 2, 3}"
   ]
  },
  {
   "cell_type": "code",
   "execution_count": 140,
   "metadata": {
    "collapsed": true
   },
   "outputs": [],
   "source": [
    "s1.add(3)"
   ]
  },
  {
   "cell_type": "code",
   "execution_count": 141,
   "metadata": {},
   "outputs": [
    {
     "data": {
      "text/plain": [
       "{1, 2, 3}"
      ]
     },
     "execution_count": 141,
     "metadata": {},
     "output_type": "execute_result"
    }
   ],
   "source": [
    "s1"
   ]
  },
  {
   "cell_type": "code",
   "execution_count": 142,
   "metadata": {
    "collapsed": true
   },
   "outputs": [],
   "source": [
    "class GraphDict:\n",
    "    \n",
    "    def __init__(self):\n",
    "        \n",
    "        self.__adjDict__ = {}        \n",
    "        \n",
    "        \n",
    "    def getNumOfNodes(self):\n",
    "        \n",
    "        return len(self.__adjDict__.keys())\n",
    "    \n",
    "    \n",
    "    def isNodePresent(self, node):\n",
    "        \n",
    "        return node in self.__adjDict__.keys()\n",
    "    \n",
    "    \n",
    "    def addEdge(self, vertex1, vertex2):\n",
    "            \n",
    "        if self.isNodePresent(vertex1):\n",
    "                \n",
    "            self.__adjDict__[vertex1].add(vertex2)\n",
    "            \n",
    "        else:\n",
    "             \n",
    "            self.__adjDict__[vertex1] = {vertex2}    \n",
    "            \n",
    "            \n",
    "        if self.isNodePresent(vertex2):\n",
    "                \n",
    "            self.__adjDict__[vertex2].add(vertex1)\n",
    "            \n",
    "        else:\n",
    "            \n",
    "            self.__adjDict__[vertex2] = {vertex1}\n",
    "            \n",
    "        return\n",
    "        \n",
    "  \n",
    "    def printGraph(self):\n",
    "        \n",
    "        print(self.__adjDict__)\n",
    "        \n",
    "    \n",
    "    def isConnected(self, vertex1, vertex2):\n",
    "        \n",
    "        return vertex2 in self.__adjDict__[vertex1]\n",
    "                "
   ]
  },
  {
   "cell_type": "code",
   "execution_count": 143,
   "metadata": {
    "collapsed": true
   },
   "outputs": [],
   "source": [
    "g2 = GraphDict()"
   ]
  },
  {
   "cell_type": "code",
   "execution_count": 152,
   "metadata": {},
   "outputs": [
    {
     "data": {
      "text/plain": [
       "5"
      ]
     },
     "execution_count": 152,
     "metadata": {},
     "output_type": "execute_result"
    }
   ],
   "source": [
    "g2.getNumOfNodes()"
   ]
  },
  {
   "cell_type": "code",
   "execution_count": 145,
   "metadata": {},
   "outputs": [],
   "source": [
    "g2.addEdge(0, 1)\n",
    "g2.addEdge(0, 4)\n",
    "g2.addEdge(1, 0)\n",
    "g2.addEdge(1, 2)\n",
    "g2.addEdge(1, 3)\n",
    "g2.addEdge(1, 4)\n",
    "g2.addEdge(2, 1)\n",
    "g2.addEdge(2, 3)\n",
    "g2.addEdge(3, 1)\n",
    "g2.addEdge(3, 2)\n",
    "g2.addEdge(3, 4)\n",
    "g2.addEdge(4, 0)\n",
    "g2.addEdge(4, 1)\n",
    "g2.addEdge(4, 3)"
   ]
  },
  {
   "cell_type": "code",
   "execution_count": 146,
   "metadata": {},
   "outputs": [
    {
     "name": "stdout",
     "output_type": "stream",
     "text": [
      "{0: {1, 4}, 1: {0, 2, 3, 4}, 4: {0, 1, 3}, 2: {1, 3}, 3: {1, 2, 4}}\n"
     ]
    }
   ],
   "source": [
    "g2.printGraph()"
   ]
  },
  {
   "cell_type": "code",
   "execution_count": 150,
   "metadata": {},
   "outputs": [
    {
     "data": {
      "text/plain": [
       "False"
      ]
     },
     "execution_count": 150,
     "metadata": {},
     "output_type": "execute_result"
    }
   ],
   "source": [
    "g2.isConnected(0, 5)"
   ]
  },
  {
   "cell_type": "code",
   "execution_count": 151,
   "metadata": {},
   "outputs": [
    {
     "data": {
      "text/plain": [
       "False"
      ]
     },
     "execution_count": 151,
     "metadata": {},
     "output_type": "execute_result"
    }
   ],
   "source": [
    "g2.isNodePresent(5)"
   ]
  },
  {
   "cell_type": "code",
   "execution_count": 153,
   "metadata": {
    "collapsed": true
   },
   "outputs": [],
   "source": [
    "class Vertex:\n",
    "    \n",
    "    def __init__(self, val):\n",
    "        \n",
    "        self.val = val\n",
    "        \n",
    "        self.vertexNo = None\n",
    "        \n",
    "        self.isVisited = False\n",
    "        \n",
    "        \n",
    "    ## Can encapsulate above attributes (by adding get/ set methods)"
   ]
  },
  {
   "cell_type": "code",
   "execution_count": 154,
   "metadata": {
    "collapsed": true
   },
   "outputs": [],
   "source": [
    "class Edge:\n",
    "    \n",
    "    def __init__(self, v1, v2):\n",
    "        \n",
    "        # v1 and v2 are instances of vertex class\n",
    "        \n",
    "        self.start = v1\n",
    "        \n",
    "        self.end = v2\n",
    "        "
   ]
  },
  {
   "cell_type": "code",
   "execution_count": 155,
   "metadata": {},
   "outputs": [
    {
     "data": {
      "text/plain": [
       "(1, 2, 3)"
      ]
     },
     "execution_count": 155,
     "metadata": {},
     "output_type": "execute_result"
    }
   ],
   "source": [
    "(1, 2, 3)"
   ]
  },
  {
   "cell_type": "code",
   "execution_count": 158,
   "metadata": {},
   "outputs": [
    {
     "data": {
      "text/plain": [
       "tuple"
      ]
     },
     "execution_count": 158,
     "metadata": {},
     "output_type": "execute_result"
    }
   ],
   "source": [
    "type(((1, 4), (5, 6, 7)))"
   ]
  },
  {
   "cell_type": "code",
   "execution_count": 159,
   "metadata": {
    "collapsed": true
   },
   "outputs": [],
   "source": [
    "class GraphOO:\n",
    "    \n",
    "    def __init__(self):\n",
    "        \n",
    "        self.setOfVertices = {}\n",
    "        \n",
    "        self.tupleOfEdges = ()\n",
    "        \n",
    "    def addNode(self, list)\n",
    "        "
   ]
  },
  {
   "cell_type": "code",
   "execution_count": null,
   "metadata": {
    "collapsed": true
   },
   "outputs": [],
   "source": [
    "g = Graph00\n",
    "v1 = Vertex(1000)\n",
    "v2 = Vertex(2000)\n",
    "v3 = Vertex(3000)\n",
    "\n",
    "vertices.append(v1)\n",
    "vertices.append(v2)\n",
    "vertices.append(v3)\n",
    "g.addNode(vertices)"
   ]
  }
 ],
 "metadata": {
  "kernelspec": {
   "display_name": "Python 3",
   "language": "python",
   "name": "python3"
  },
  "language_info": {
   "codemirror_mode": {
    "name": "ipython",
    "version": 3
   },
   "file_extension": ".py",
   "mimetype": "text/x-python",
   "name": "python",
   "nbconvert_exporter": "python",
   "pygments_lexer": "ipython3",
   "version": "3.6.3"
  }
 },
 "nbformat": 4,
 "nbformat_minor": 2
}
