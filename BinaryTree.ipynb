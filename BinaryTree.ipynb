{
 "cells": [
  {
   "cell_type": "code",
   "execution_count": 12,
   "metadata": {
    "collapsed": true
   },
   "outputs": [],
   "source": [
    "class TreeNode:\n",
    "    \n",
    "    def __init__(self, val):\n",
    "        \n",
    "        self.val = val\n",
    "        self.__leftChild__ = None\n",
    "        self.__rightChild__ = None\n",
    "        \n",
    "    def setRightChild(self, rightNode):\n",
    "        \n",
    "        self.__rightChild__ = rightNode\n",
    "        \n",
    "    def setLeftChild(self, leftNode):\n",
    "\n",
    "        self.__leftChild__ = leftNode\n",
    "        \n",
    "    def getRightChild(self):\n",
    "        \n",
    "        return self.__rightChild__\n",
    "    \n",
    "    def getLeftChild(self):\n",
    "        \n",
    "        return self.__leftChild__\n",
    "    \n",
    "        "
   ]
  },
  {
   "cell_type": "code",
   "execution_count": 24,
   "metadata": {
    "collapsed": true
   },
   "outputs": [],
   "source": [
    "class Tree:\n",
    "    \n",
    "    def __init__(self):\n",
    "        \n",
    "        self.root = None\n",
    "        \n",
    "    def inOrderTraversal(self):\n",
    "        \n",
    "        stack = []\n",
    "        \n",
    "        temp = self.root\n",
    "        \n",
    "        while temp is not None:\n",
    "            \n",
    "            stack.append(temp)\n",
    "            \n",
    "            temp = temp.getLeftChild()\n",
    "            \n",
    "        traversal = []\n",
    "        \n",
    "        while len(stack) > 0:\n",
    "        \n",
    "            tempV = stack.pop()\n",
    "\n",
    "            traversal.append(tempV.val)\n",
    "\n",
    "            if tempV.getRightChild() is not None:\n",
    "\n",
    "                tempR = tempV.getRightChild()\n",
    "\n",
    "                while tempR is not None:\n",
    "\n",
    "                    stack.append(tempR)\n",
    "\n",
    "                    tempR = tempR.getLeftChild()\n",
    "        \n",
    "        print(traversal)    \n",
    "            "
   ]
  },
  {
   "cell_type": "code",
   "execution_count": null,
   "metadata": {
    "collapsed": true
   },
   "outputs": [],
   "source": []
  },
  {
   "cell_type": "code",
   "execution_count": null,
   "metadata": {
    "collapsed": true
   },
   "outputs": [],
   "source": []
  },
  {
   "cell_type": "code",
   "execution_count": 26,
   "metadata": {
    "collapsed": true
   },
   "outputs": [],
   "source": [
    "tree = Tree()"
   ]
  },
  {
   "cell_type": "code",
   "execution_count": 27,
   "metadata": {
    "collapsed": true
   },
   "outputs": [],
   "source": [
    "tree.root = TreeNode(10)"
   ]
  },
  {
   "cell_type": "code",
   "execution_count": 28,
   "metadata": {
    "collapsed": true
   },
   "outputs": [],
   "source": [
    "tree.root.setLeftChild(TreeNode(9))"
   ]
  },
  {
   "cell_type": "code",
   "execution_count": 29,
   "metadata": {
    "collapsed": true
   },
   "outputs": [],
   "source": [
    "tree.root.setRightChild(TreeNode(8))"
   ]
  },
  {
   "cell_type": "code",
   "execution_count": 30,
   "metadata": {
    "collapsed": true
   },
   "outputs": [],
   "source": [
    "tree.root.getRightChild().setLeftChild(TreeNode(13))"
   ]
  },
  {
   "cell_type": "code",
   "execution_count": 31,
   "metadata": {
    "collapsed": true
   },
   "outputs": [],
   "source": [
    "tree.root.getLeftChild().setRightChild(TreeNode(12))"
   ]
  },
  {
   "cell_type": "code",
   "execution_count": 32,
   "metadata": {
    "collapsed": true
   },
   "outputs": [],
   "source": [
    "tree.root.getLeftChild().getRightChild().setLeftChild(TreeNode(16))"
   ]
  },
  {
   "cell_type": "code",
   "execution_count": 33,
   "metadata": {
    "collapsed": true
   },
   "outputs": [],
   "source": [
    "tree.root.getLeftChild().getRightChild().setRightChild(TreeNode(18))"
   ]
  },
  {
   "cell_type": "code",
   "execution_count": 34,
   "metadata": {
    "collapsed": true
   },
   "outputs": [],
   "source": [
    "tree.root.getRightChild().getLeftChild().setLeftChild(TreeNode(19))"
   ]
  },
  {
   "cell_type": "code",
   "execution_count": 35,
   "metadata": {
    "collapsed": true
   },
   "outputs": [],
   "source": [
    "tree.root.getRightChild().getLeftChild().setRightChild(TreeNode(20))"
   ]
  },
  {
   "cell_type": "code",
   "execution_count": 36,
   "metadata": {},
   "outputs": [
    {
     "name": "stdout",
     "output_type": "stream",
     "text": [
      "[9, 16, 12, 18, 10, 19, 13, 20, 8]\n"
     ]
    }
   ],
   "source": [
    "tree.inOrderTraversal()"
   ]
  },
  {
   "cell_type": "code",
   "execution_count": null,
   "metadata": {
    "collapsed": true
   },
   "outputs": [],
   "source": []
  }
 ],
 "metadata": {
  "kernelspec": {
   "display_name": "Python 3",
   "language": "python",
   "name": "python3"
  },
  "language_info": {
   "codemirror_mode": {
    "name": "ipython",
    "version": 3
   },
   "file_extension": ".py",
   "mimetype": "text/x-python",
   "name": "python",
   "nbconvert_exporter": "python",
   "pygments_lexer": "ipython3",
   "version": "3.6.3"
  }
 },
 "nbformat": 4,
 "nbformat_minor": 2
}
