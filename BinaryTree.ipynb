{
 "cells": [
  {
   "cell_type": "code",
   "execution_count": 12,
   "metadata": {
    "collapsed": true
   },
   "outputs": [],
   "source": [
    "class TreeNode:\n",
    "    \n",
    "    def __init__(self, val):\n",
    "        \n",
    "        self.val = val\n",
    "        self.__leftChild__ = None\n",
    "        self.__rightChild__ = None\n",
    "        \n",
    "    def setRightChild(self, rightNode):\n",
    "        \n",
    "        self.__rightChild__ = rightNode\n",
    "        \n",
    "    def setLeftChild(self, leftNode):\n",
    "\n",
    "        self.__leftChild__ = leftNode\n",
    "        \n",
    "    def getRightChild(self):\n",
    "        \n",
    "        return self.__rightChild__\n",
    "    \n",
    "    def getLeftChild(self):\n",
    "        \n",
    "        return self.__leftChild__\n",
    "    \n",
    "        "
   ]
  },
  {
   "cell_type": "code",
   "execution_count": 124,
   "metadata": {},
   "outputs": [],
   "source": [
    "class Tree:\n",
    "    \n",
    "    def __init__(self):\n",
    "        \n",
    "        self.root = None\n",
    "        \n",
    "    def inOrderTraversal(self):\n",
    "        \n",
    "        stack = []\n",
    "        \n",
    "        temp = self.root\n",
    "        \n",
    "        while temp is not None:\n",
    "            \n",
    "            stack.append(temp)\n",
    "            \n",
    "            temp = temp.getLeftChild()\n",
    "            \n",
    "        traversal = []\n",
    "        \n",
    "        while len(stack) > 0:\n",
    "        \n",
    "            tempV = stack.pop()\n",
    "\n",
    "            traversal.append(tempV.val)\n",
    "\n",
    "            if tempV.getRightChild() is not None:\n",
    "\n",
    "                tempR = tempV.getRightChild()\n",
    "\n",
    "                while tempR is not None:\n",
    "\n",
    "                    stack.append(tempR)\n",
    "\n",
    "                    tempR = tempR.getLeftChild()\n",
    "        \n",
    "        print(traversal)\n",
    "        \n",
    "        \n",
    "    def preOrderTraversal(self): \n",
    "        \n",
    "        stack = []\n",
    "        \n",
    "        traversal = []\n",
    "        \n",
    "        if self.root is not None:\n",
    "                \n",
    "            stack.append(self.root)\n",
    "        \n",
    "        \n",
    "        while len(stack) > 0:\n",
    "            \n",
    "            temp = stack.pop()\n",
    "            \n",
    "            traversal.append(temp.val)\n",
    "            \n",
    "            if temp.getRightChild() is not None:\n",
    "                \n",
    "                stack.append(temp.getRightChild())\n",
    "                \n",
    "            if temp.getLeftChild() is not None:\n",
    "                \n",
    "                stack.append(temp.getLeftChild())\n",
    "                \n",
    "        print(traversal)       \n",
    "        \n",
    "        \n",
    "    def postOrderTraversal(self):\n",
    "            \n",
    "        stack = []\n",
    "\n",
    "        traversal = []\n",
    "\n",
    "        if self.root is not None:\n",
    "\n",
    "            stack.append(self.root)\n",
    "\n",
    "        while len(stack) > 0:\n",
    "\n",
    "            temp = stack.pop()\n",
    "\n",
    "            traversal.append(temp.val)\n",
    "\n",
    "            if temp.getLeftChild() is not None:\n",
    "\n",
    "                stack.append(temp.getLeftChild())\n",
    "\n",
    "            if temp.getRightChild() is not None:\n",
    "\n",
    "                stack.append(temp.getRightChild())\n",
    "\n",
    "\n",
    "        print(traversal[::-1])                      "
   ]
  },
  {
   "cell_type": "code",
   "execution_count": null,
   "metadata": {
    "collapsed": true
   },
   "outputs": [],
   "source": []
  },
  {
   "cell_type": "code",
   "execution_count": null,
   "metadata": {
    "collapsed": true
   },
   "outputs": [],
   "source": []
  },
  {
   "cell_type": "code",
   "execution_count": 125,
   "metadata": {
    "collapsed": true
   },
   "outputs": [],
   "source": [
    "tree = Tree()"
   ]
  },
  {
   "cell_type": "code",
   "execution_count": 126,
   "metadata": {
    "collapsed": true
   },
   "outputs": [],
   "source": [
    "tree.root = TreeNode(10)"
   ]
  },
  {
   "cell_type": "code",
   "execution_count": 127,
   "metadata": {
    "collapsed": true
   },
   "outputs": [],
   "source": [
    "tree.root.setLeftChild(TreeNode(9))"
   ]
  },
  {
   "cell_type": "code",
   "execution_count": 128,
   "metadata": {
    "collapsed": true
   },
   "outputs": [],
   "source": [
    "tree.root.setRightChild(TreeNode(8))"
   ]
  },
  {
   "cell_type": "code",
   "execution_count": 129,
   "metadata": {
    "collapsed": true
   },
   "outputs": [],
   "source": [
    "tree.root.getRightChild().setLeftChild(TreeNode(13))"
   ]
  },
  {
   "cell_type": "code",
   "execution_count": 130,
   "metadata": {
    "collapsed": true
   },
   "outputs": [],
   "source": [
    "tree.root.getLeftChild().setRightChild(TreeNode(12))"
   ]
  },
  {
   "cell_type": "code",
   "execution_count": 131,
   "metadata": {
    "collapsed": true
   },
   "outputs": [],
   "source": [
    "tree.root.getLeftChild().getRightChild().setLeftChild(TreeNode(16))"
   ]
  },
  {
   "cell_type": "code",
   "execution_count": 132,
   "metadata": {
    "collapsed": true
   },
   "outputs": [],
   "source": [
    "tree.root.getLeftChild().getRightChild().setRightChild(TreeNode(18))"
   ]
  },
  {
   "cell_type": "code",
   "execution_count": 133,
   "metadata": {
    "collapsed": true
   },
   "outputs": [],
   "source": [
    "tree.root.getRightChild().getLeftChild().setLeftChild(TreeNode(19))"
   ]
  },
  {
   "cell_type": "code",
   "execution_count": 134,
   "metadata": {
    "collapsed": true
   },
   "outputs": [],
   "source": [
    "tree.root.getRightChild().getLeftChild().setRightChild(TreeNode(20))"
   ]
  },
  {
   "cell_type": "code",
   "execution_count": 135,
   "metadata": {},
   "outputs": [
    {
     "name": "stdout",
     "output_type": "stream",
     "text": [
      "[9, 16, 12, 18, 10, 19, 13, 20, 8]\n"
     ]
    }
   ],
   "source": [
    "tree.inOrderTraversal()"
   ]
  },
  {
   "cell_type": "code",
   "execution_count": 136,
   "metadata": {},
   "outputs": [
    {
     "name": "stdout",
     "output_type": "stream",
     "text": [
      "[10, 9, 12, 16, 18, 8, 13, 19, 20]\n"
     ]
    }
   ],
   "source": [
    "tree.preOrderTraversal()"
   ]
  },
  {
   "cell_type": "code",
   "execution_count": 137,
   "metadata": {},
   "outputs": [
    {
     "name": "stdout",
     "output_type": "stream",
     "text": [
      "[16, 18, 12, 9, 19, 20, 13, 8, 10]\n"
     ]
    }
   ],
   "source": [
    "tree.postOrderTraversal()"
   ]
  },
  {
   "cell_type": "code",
   "execution_count": null,
   "metadata": {
    "collapsed": true
   },
   "outputs": [],
   "source": []
  },
  {
   "cell_type": "code",
   "execution_count": 139,
   "metadata": {},
   "outputs": [],
   "source": [
    "l = [1, 2, 3]"
   ]
  },
  {
   "cell_type": "code",
   "execution_count": 140,
   "metadata": {},
   "outputs": [],
   "source": [
    "l.reverse()"
   ]
  },
  {
   "cell_type": "code",
   "execution_count": 141,
   "metadata": {},
   "outputs": [
    {
     "data": {
      "text/plain": [
       "[3, 2, 1]"
      ]
     },
     "execution_count": 141,
     "metadata": {},
     "output_type": "execute_result"
    }
   ],
   "source": [
    "l"
   ]
  },
  {
   "cell_type": "code",
   "execution_count": 142,
   "metadata": {},
   "outputs": [
    {
     "data": {
      "text/plain": [
       "[1, 2, 3]"
      ]
     },
     "execution_count": 142,
     "metadata": {},
     "output_type": "execute_result"
    }
   ],
   "source": [
    "l[::-1]"
   ]
  },
  {
   "cell_type": "code",
   "execution_count": null,
   "metadata": {
    "collapsed": true
   },
   "outputs": [],
   "source": []
  }
 ],
 "metadata": {
  "kernelspec": {
   "display_name": "Python 3",
   "language": "python",
   "name": "python3"
  },
  "language_info": {
   "codemirror_mode": {
    "name": "ipython",
    "version": 3
   },
   "file_extension": ".py",
   "mimetype": "text/x-python",
   "name": "python",
   "nbconvert_exporter": "python",
   "pygments_lexer": "ipython3",
   "version": "3.6.3"
  }
 },
 "nbformat": 4,
 "nbformat_minor": 2
}
