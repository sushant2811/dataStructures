{
 "cells": [
  {
   "cell_type": "code",
   "execution_count": 12,
   "metadata": {
    "collapsed": true
   },
   "outputs": [],
   "source": [
    "class TreeNode:\n",
    "    \n",
    "    def __init__(self, val):\n",
    "        \n",
    "        self.val = val\n",
    "        self.__leftChild__ = None\n",
    "        self.__rightChild__ = None\n",
    "        \n",
    "    def setRightChild(self, rightNode):\n",
    "        \n",
    "        self.__rightChild__ = rightNode\n",
    "        \n",
    "    def setLeftChild(self, leftNode):\n",
    "\n",
    "        self.__leftChild__ = leftNode\n",
    "        \n",
    "    def getRightChild(self):\n",
    "        \n",
    "        return self.__rightChild__\n",
    "    \n",
    "    def getLeftChild(self):\n",
    "        \n",
    "        return self.__leftChild__\n",
    "    \n",
    "        "
   ]
  },
  {
   "cell_type": "code",
   "execution_count": null,
   "metadata": {
    "collapsed": true
   },
   "outputs": [],
   "source": []
  },
  {
   "cell_type": "code",
   "execution_count": 190,
   "metadata": {
    "collapsed": true
   },
   "outputs": [],
   "source": [
    "from collections import deque"
   ]
  },
  {
   "cell_type": "code",
   "execution_count": 227,
   "metadata": {},
   "outputs": [],
   "source": [
    "class Tree:\n",
    "    \n",
    "    def __init__(self):\n",
    "        \n",
    "        self.root = None\n",
    "        \n",
    "    def inOrderTraversal(self):\n",
    "        \n",
    "        stack = []\n",
    "        \n",
    "        temp = self.root\n",
    "        \n",
    "        while temp is not None:\n",
    "            \n",
    "            stack.append(temp)\n",
    "            \n",
    "            temp = temp.getLeftChild()\n",
    "            \n",
    "        traversal = []\n",
    "        \n",
    "        while len(stack) > 0:\n",
    "        \n",
    "            tempV = stack.pop()\n",
    "\n",
    "            traversal.append(tempV.val)\n",
    "\n",
    "            if tempV.getRightChild() is not None:\n",
    "\n",
    "                tempR = tempV.getRightChild()\n",
    "\n",
    "                while tempR is not None:\n",
    "\n",
    "                    stack.append(tempR)\n",
    "\n",
    "                    tempR = tempR.getLeftChild()\n",
    "        \n",
    "        print(traversal)\n",
    "        \n",
    "        \n",
    "    def preOrderTraversal(self): \n",
    "        \n",
    "        stack = []\n",
    "        \n",
    "        traversal = []\n",
    "        \n",
    "        if self.root is not None:\n",
    "                \n",
    "            stack.append(self.root)\n",
    "        \n",
    "        \n",
    "        while len(stack) > 0:\n",
    "            \n",
    "            temp = stack.pop()\n",
    "            \n",
    "            traversal.append(temp.val)\n",
    "            \n",
    "            if temp.getRightChild() is not None:\n",
    "                \n",
    "                stack.append(temp.getRightChild())\n",
    "                \n",
    "            if temp.getLeftChild() is not None:\n",
    "                \n",
    "                stack.append(temp.getLeftChild())\n",
    "                \n",
    "        print(traversal)       \n",
    "        \n",
    "        \n",
    "    def postOrderTraversal(self):\n",
    "            \n",
    "        stack = []\n",
    "\n",
    "        traversal = []\n",
    "\n",
    "        if self.root is not None:\n",
    "\n",
    "            stack.append(self.root)\n",
    "\n",
    "        while len(stack) > 0:\n",
    "\n",
    "            temp = stack.pop()\n",
    "\n",
    "            traversal.append(temp.val)\n",
    "\n",
    "            if temp.getLeftChild() is not None:\n",
    "\n",
    "                stack.append(temp.getLeftChild())\n",
    "\n",
    "            if temp.getRightChild() is not None:\n",
    "\n",
    "                stack.append(temp.getRightChild())\n",
    "\n",
    "\n",
    "        print(traversal[::-1]) \n",
    "        \n",
    "    \n",
    "    def findHeight(self):\n",
    "        \n",
    "        if self.root is None:\n",
    "            \n",
    "            height = 0\n",
    "            \n",
    "            return height\n",
    "        \n",
    "        if self.root.getLeftChild() is None and self.root.getRightChild() is None:\n",
    "            \n",
    "            height = 1\n",
    "            \n",
    "            return height\n",
    "        \n",
    "        leftSubtree = Tree()\n",
    "        \n",
    "        leftSubtree.root = self.root.getLeftChild()\n",
    "        \n",
    "        rightSubtree = Tree()\n",
    "        \n",
    "        rightSubtree.root = self.root.getRightChild()\n",
    "        \n",
    "        height = max(leftSubtree.findHeight(), rightSubtree.findHeight()) + 1\n",
    "        \n",
    "        return height\n",
    "    \n",
    "    \n",
    "    def levelOrderTraversal(self):\n",
    "        \n",
    "        q = deque()\n",
    "        \n",
    "        traversal = []\n",
    "        \n",
    "        if self.root is None:\n",
    "            \n",
    "            return\n",
    "        \n",
    "        q.append(self.root)\n",
    "        \n",
    "        while len(q) > 0:\n",
    "            \n",
    "            temp = q.popleft()\n",
    "            \n",
    "            traversal.append(temp.val)\n",
    "            \n",
    "            if temp.getLeftChild() is not None:\n",
    "                \n",
    "                q.append(temp.getLeftChild())\n",
    "                \n",
    "        \n",
    "            if temp.getRightChild() is not None:\n",
    "                \n",
    "                q.append(temp.getRightChild())    \n",
    "            \n",
    "            \n",
    "        print(traversal)\n",
    "            "
   ]
  },
  {
   "cell_type": "code",
   "execution_count": 228,
   "metadata": {
    "collapsed": true
   },
   "outputs": [],
   "source": [
    "q = deque()"
   ]
  },
  {
   "cell_type": "code",
   "execution_count": 229,
   "metadata": {},
   "outputs": [],
   "source": [
    "q.append(10)"
   ]
  },
  {
   "cell_type": "code",
   "execution_count": 230,
   "metadata": {
    "collapsed": true
   },
   "outputs": [],
   "source": [
    "q.append(20)"
   ]
  },
  {
   "cell_type": "code",
   "execution_count": 231,
   "metadata": {},
   "outputs": [
    {
     "data": {
      "text/plain": [
       "deque([10, 20])"
      ]
     },
     "execution_count": 231,
     "metadata": {},
     "output_type": "execute_result"
    }
   ],
   "source": [
    "q"
   ]
  },
  {
   "cell_type": "code",
   "execution_count": 232,
   "metadata": {},
   "outputs": [
    {
     "data": {
      "text/plain": [
       "10"
      ]
     },
     "execution_count": 232,
     "metadata": {},
     "output_type": "execute_result"
    }
   ],
   "source": [
    "q.popleft()"
   ]
  },
  {
   "cell_type": "code",
   "execution_count": 233,
   "metadata": {},
   "outputs": [
    {
     "data": {
      "text/plain": [
       "deque([20])"
      ]
     },
     "execution_count": 233,
     "metadata": {},
     "output_type": "execute_result"
    }
   ],
   "source": [
    "q"
   ]
  },
  {
   "cell_type": "code",
   "execution_count": 234,
   "metadata": {},
   "outputs": [
    {
     "data": {
      "text/plain": [
       "1"
      ]
     },
     "execution_count": 234,
     "metadata": {},
     "output_type": "execute_result"
    }
   ],
   "source": [
    "len(q)"
   ]
  },
  {
   "cell_type": "code",
   "execution_count": null,
   "metadata": {
    "collapsed": true
   },
   "outputs": [],
   "source": []
  },
  {
   "cell_type": "code",
   "execution_count": 235,
   "metadata": {
    "collapsed": true
   },
   "outputs": [],
   "source": [
    "tree = Tree()"
   ]
  },
  {
   "cell_type": "code",
   "execution_count": 236,
   "metadata": {
    "collapsed": true
   },
   "outputs": [],
   "source": [
    "tree.root = TreeNode(10)"
   ]
  },
  {
   "cell_type": "code",
   "execution_count": 237,
   "metadata": {
    "collapsed": true
   },
   "outputs": [],
   "source": [
    "tree.root.setLeftChild(TreeNode(9))"
   ]
  },
  {
   "cell_type": "code",
   "execution_count": 238,
   "metadata": {
    "collapsed": true
   },
   "outputs": [],
   "source": [
    "tree.root.setRightChild(TreeNode(8))"
   ]
  },
  {
   "cell_type": "code",
   "execution_count": 239,
   "metadata": {
    "collapsed": true
   },
   "outputs": [],
   "source": [
    "tree.root.getRightChild().setLeftChild(TreeNode(13))"
   ]
  },
  {
   "cell_type": "code",
   "execution_count": 240,
   "metadata": {
    "collapsed": true
   },
   "outputs": [],
   "source": [
    "tree.root.getLeftChild().setRightChild(TreeNode(12))"
   ]
  },
  {
   "cell_type": "code",
   "execution_count": 241,
   "metadata": {
    "collapsed": true
   },
   "outputs": [],
   "source": [
    "tree.root.getLeftChild().getRightChild().setLeftChild(TreeNode(16))"
   ]
  },
  {
   "cell_type": "code",
   "execution_count": 242,
   "metadata": {
    "collapsed": true
   },
   "outputs": [],
   "source": [
    "tree.root.getLeftChild().getRightChild().setRightChild(TreeNode(18))"
   ]
  },
  {
   "cell_type": "code",
   "execution_count": 243,
   "metadata": {
    "collapsed": true
   },
   "outputs": [],
   "source": [
    "tree.root.getRightChild().getLeftChild().setLeftChild(TreeNode(19))"
   ]
  },
  {
   "cell_type": "code",
   "execution_count": 244,
   "metadata": {
    "collapsed": true
   },
   "outputs": [],
   "source": [
    "tree.root.getRightChild().getLeftChild().setRightChild(TreeNode(20))"
   ]
  },
  {
   "cell_type": "code",
   "execution_count": 245,
   "metadata": {},
   "outputs": [
    {
     "name": "stdout",
     "output_type": "stream",
     "text": [
      "[9, 16, 12, 18, 10, 19, 13, 20, 8]\n"
     ]
    }
   ],
   "source": [
    "tree.inOrderTraversal()"
   ]
  },
  {
   "cell_type": "code",
   "execution_count": 246,
   "metadata": {},
   "outputs": [
    {
     "name": "stdout",
     "output_type": "stream",
     "text": [
      "[10, 9, 12, 16, 18, 8, 13, 19, 20]\n"
     ]
    }
   ],
   "source": [
    "tree.preOrderTraversal()"
   ]
  },
  {
   "cell_type": "code",
   "execution_count": 247,
   "metadata": {},
   "outputs": [
    {
     "name": "stdout",
     "output_type": "stream",
     "text": [
      "[16, 18, 12, 9, 19, 20, 13, 8, 10]\n"
     ]
    }
   ],
   "source": [
    "tree.postOrderTraversal()"
   ]
  },
  {
   "cell_type": "code",
   "execution_count": 248,
   "metadata": {},
   "outputs": [
    {
     "data": {
      "text/plain": [
       "4"
      ]
     },
     "execution_count": 248,
     "metadata": {},
     "output_type": "execute_result"
    }
   ],
   "source": [
    "tree.findHeight()"
   ]
  },
  {
   "cell_type": "code",
   "execution_count": 249,
   "metadata": {},
   "outputs": [
    {
     "name": "stdout",
     "output_type": "stream",
     "text": [
      "[10, 9, 8, 12, 13, 16, 18, 19, 20]\n"
     ]
    }
   ],
   "source": [
    "tree.levelOrderTraversal()"
   ]
  },
  {
   "cell_type": "code",
   "execution_count": null,
   "metadata": {
    "collapsed": true
   },
   "outputs": [],
   "source": []
  },
  {
   "cell_type": "code",
   "execution_count": 250,
   "metadata": {},
   "outputs": [],
   "source": [
    "l = [1, 2, 3]"
   ]
  },
  {
   "cell_type": "code",
   "execution_count": 251,
   "metadata": {},
   "outputs": [],
   "source": [
    "l.reverse()"
   ]
  },
  {
   "cell_type": "code",
   "execution_count": 252,
   "metadata": {},
   "outputs": [
    {
     "data": {
      "text/plain": [
       "[3, 2, 1]"
      ]
     },
     "execution_count": 252,
     "metadata": {},
     "output_type": "execute_result"
    }
   ],
   "source": [
    "l"
   ]
  },
  {
   "cell_type": "code",
   "execution_count": 253,
   "metadata": {},
   "outputs": [
    {
     "data": {
      "text/plain": [
       "[1, 2, 3]"
      ]
     },
     "execution_count": 253,
     "metadata": {},
     "output_type": "execute_result"
    }
   ],
   "source": [
    "l[::-1]"
   ]
  },
  {
   "cell_type": "markdown",
   "metadata": {},
   "source": [
    "Slicing notation in Python: \n",
    "\n",
    "[first element to include: first element to exclude: step]"
   ]
  },
  {
   "cell_type": "code",
   "execution_count": null,
   "metadata": {
    "collapsed": true
   },
   "outputs": [],
   "source": []
  }
 ],
 "metadata": {
  "kernelspec": {
   "display_name": "Python 3",
   "language": "python",
   "name": "python3"
  },
  "language_info": {
   "codemirror_mode": {
    "name": "ipython",
    "version": 3
   },
   "file_extension": ".py",
   "mimetype": "text/x-python",
   "name": "python",
   "nbconvert_exporter": "python",
   "pygments_lexer": "ipython3",
   "version": "3.6.3"
  }
 },
 "nbformat": 4,
 "nbformat_minor": 2
}
