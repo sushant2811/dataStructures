{
 "cells": [
  {
   "cell_type": "markdown",
   "metadata": {},
   "source": [
    "## Review data structures\n",
    "\n",
    "### Ref.: LeetCode and geekforgeeks"
   ]
  },
  {
   "cell_type": "code",
   "execution_count": 2,
   "metadata": {
    "collapsed": true
   },
   "outputs": [],
   "source": [
    "# Node class\n",
    "class Node:\n",
    "    \n",
    "    def __init__(self, data):\n",
    "        \n",
    "        self.data = data # Assign data\n",
    "        self.next = None # initialize next as null"
   ]
  },
  {
   "cell_type": "code",
   "execution_count": 3,
   "metadata": {
    "collapsed": true
   },
   "outputs": [],
   "source": [
    "# Linked list class\n",
    "\n",
    "class linkedList:\n",
    "    \n",
    "    # function to initialize the linked list object\n",
    "    \n",
    "    def __init__(self):\n",
    "        \n",
    "        self.head = None"
   ]
  },
  {
   "cell_type": "markdown",
   "metadata": {},
   "source": [
    "Let's create a linked list with three nodes"
   ]
  },
  {
   "cell_type": "code",
   "execution_count": 4,
   "metadata": {
    "collapsed": true
   },
   "outputs": [],
   "source": [
    "ll = linkedList()"
   ]
  },
  {
   "cell_type": "code",
   "execution_count": 5,
   "metadata": {},
   "outputs": [
    {
     "data": {
      "text/plain": [
       "__main__.linkedList"
      ]
     },
     "execution_count": 5,
     "metadata": {},
     "output_type": "execute_result"
    }
   ],
   "source": [
    "type(ll)"
   ]
  },
  {
   "cell_type": "code",
   "execution_count": 6,
   "metadata": {
    "collapsed": true
   },
   "outputs": [],
   "source": [
    "ll.head = Node(11)"
   ]
  },
  {
   "cell_type": "code",
   "execution_count": 7,
   "metadata": {},
   "outputs": [
    {
     "data": {
      "text/plain": [
       "<__main__.linkedList at 0x1065cc080>"
      ]
     },
     "execution_count": 7,
     "metadata": {},
     "output_type": "execute_result"
    }
   ],
   "source": [
    "ll"
   ]
  },
  {
   "cell_type": "code",
   "execution_count": 8,
   "metadata": {
    "collapsed": true
   },
   "outputs": [],
   "source": [
    "second = Node(22)"
   ]
  },
  {
   "cell_type": "code",
   "execution_count": 9,
   "metadata": {},
   "outputs": [
    {
     "data": {
      "text/plain": [
       "<__main__.Node at 0x1065903c8>"
      ]
     },
     "execution_count": 9,
     "metadata": {},
     "output_type": "execute_result"
    }
   ],
   "source": [
    "second"
   ]
  },
  {
   "cell_type": "code",
   "execution_count": 10,
   "metadata": {},
   "outputs": [
    {
     "data": {
      "text/plain": [
       "__main__.Node"
      ]
     },
     "execution_count": 10,
     "metadata": {},
     "output_type": "execute_result"
    }
   ],
   "source": [
    "type(second)"
   ]
  },
  {
   "cell_type": "code",
   "execution_count": 11,
   "metadata": {},
   "outputs": [
    {
     "data": {
      "text/plain": [
       "22"
      ]
     },
     "execution_count": 11,
     "metadata": {},
     "output_type": "execute_result"
    }
   ],
   "source": [
    "second.data"
   ]
  },
  {
   "cell_type": "code",
   "execution_count": 12,
   "metadata": {
    "collapsed": true
   },
   "outputs": [],
   "source": [
    "second.next"
   ]
  },
  {
   "cell_type": "code",
   "execution_count": 13,
   "metadata": {
    "collapsed": true
   },
   "outputs": [],
   "source": [
    "third = Node(33)"
   ]
  },
  {
   "cell_type": "markdown",
   "metadata": {},
   "source": [
    "Three nodes have been created, they have values: 11, 22, and 33. Now we gotta link them. "
   ]
  },
  {
   "cell_type": "code",
   "execution_count": 16,
   "metadata": {},
   "outputs": [
    {
     "data": {
      "text/plain": [
       "11"
      ]
     },
     "execution_count": 16,
     "metadata": {},
     "output_type": "execute_result"
    }
   ],
   "source": [
    "ll.head.data"
   ]
  },
  {
   "cell_type": "code",
   "execution_count": 17,
   "metadata": {},
   "outputs": [
    {
     "data": {
      "text/plain": [
       "__main__.Node"
      ]
     },
     "execution_count": 17,
     "metadata": {},
     "output_type": "execute_result"
    }
   ],
   "source": [
    "type(ll.head)"
   ]
  },
  {
   "cell_type": "code",
   "execution_count": 18,
   "metadata": {
    "collapsed": true
   },
   "outputs": [],
   "source": [
    "ll.head.next = second"
   ]
  },
  {
   "cell_type": "code",
   "execution_count": 19,
   "metadata": {
    "collapsed": true
   },
   "outputs": [],
   "source": [
    "second.next = third"
   ]
  },
  {
   "cell_type": "markdown",
   "metadata": {},
   "source": [
    "** Traversing the linked list **"
   ]
  },
  {
   "cell_type": "code",
   "execution_count": 24,
   "metadata": {
    "collapsed": true
   },
   "outputs": [],
   "source": [
    "# Linked list class\n",
    "\n",
    "class linkedList:\n",
    "    \n",
    "    # function to initialize the linked list object\n",
    "    \n",
    "    def __init__(self):\n",
    "        \n",
    "        self.head = None\n",
    "        \n",
    "    \n",
    "    def printList(self):\n",
    "        \n",
    "        node = self.head\n",
    "        \n",
    "        while node: \n",
    "            \n",
    "            print(node.data)\n",
    "            \n",
    "            node = node.next"
   ]
  },
  {
   "cell_type": "code",
   "execution_count": 28,
   "metadata": {},
   "outputs": [],
   "source": [
    "ll = linkedList()\n",
    "\n",
    "first = Node(11)\n",
    "second = Node(22)\n",
    "third = Node(33)\n",
    "\n",
    "ll.head = first\n",
    "first.next = second\n",
    "second.next = third"
   ]
  },
  {
   "cell_type": "code",
   "execution_count": 29,
   "metadata": {},
   "outputs": [
    {
     "name": "stdout",
     "output_type": "stream",
     "text": [
      "11\n",
      "22\n",
      "33\n"
     ]
    }
   ],
   "source": [
    "ll.printList()"
   ]
  },
  {
   "cell_type": "code",
   "execution_count": 30,
   "metadata": {},
   "outputs": [
    {
     "data": {
      "text/plain": [
       "<__main__.Node at 0x106639128>"
      ]
     },
     "execution_count": 30,
     "metadata": {},
     "output_type": "execute_result"
    }
   ],
   "source": [
    "second.next"
   ]
  },
  {
   "cell_type": "code",
   "execution_count": 33,
   "metadata": {
    "collapsed": true
   },
   "outputs": [],
   "source": [
    "third.next"
   ]
  },
  {
   "cell_type": "code",
   "execution_count": 32,
   "metadata": {},
   "outputs": [
    {
     "data": {
      "text/plain": [
       "NoneType"
      ]
     },
     "execution_count": 32,
     "metadata": {},
     "output_type": "execute_result"
    }
   ],
   "source": [
    "type(third.next)"
   ]
  },
  {
   "cell_type": "markdown",
   "metadata": {},
   "source": [
    "#### Adding a node to the linked list\n",
    "\n",
    "**At the start**"
   ]
  },
  {
   "cell_type": "code",
   "execution_count": 50,
   "metadata": {
    "collapsed": true
   },
   "outputs": [],
   "source": [
    "class linkedList:\n",
    "    \n",
    "    # function to initialize the linked list object\n",
    "    \n",
    "    def __init__(self):\n",
    "        \n",
    "        self.head = None\n",
    "        \n",
    "    \n",
    "    def printList(self):\n",
    "        \n",
    "        node = self.head\n",
    "        \n",
    "        while node: \n",
    "            \n",
    "            print(node.data)\n",
    "            \n",
    "            node = node.next\n",
    "            \n",
    "    def addNodeAtStart(self, data):\n",
    "        \n",
    "        # create a new node\n",
    "        first = Node(data)\n",
    "        \n",
    "        # point the next pointer of the new node to the head of linked list (LL)\n",
    "        first.next = self.head\n",
    "        \n",
    "        # Reassign the head of LL to the new node\n",
    "        self.head = first"
   ]
  },
  {
   "cell_type": "code",
   "execution_count": 47,
   "metadata": {
    "collapsed": true
   },
   "outputs": [],
   "source": [
    "ll = linkedList()\n",
    "\n",
    "first = Node(11)\n",
    "second = Node(22)\n",
    "third = Node(33)\n",
    "\n",
    "ll.head = first\n",
    "first.next = second\n",
    "second.next = third"
   ]
  },
  {
   "cell_type": "code",
   "execution_count": 48,
   "metadata": {
    "collapsed": true
   },
   "outputs": [],
   "source": [
    "ll.addNodeAtStart(10)"
   ]
  },
  {
   "cell_type": "code",
   "execution_count": 49,
   "metadata": {},
   "outputs": [
    {
     "name": "stdout",
     "output_type": "stream",
     "text": [
      "10\n",
      "11\n",
      "22\n",
      "33\n"
     ]
    }
   ],
   "source": [
    "ll.printList()"
   ]
  },
  {
   "cell_type": "markdown",
   "metadata": {},
   "source": [
    "**Add node after a given node in the linked list**"
   ]
  },
  {
   "cell_type": "code",
   "execution_count": 75,
   "metadata": {
    "collapsed": true
   },
   "outputs": [],
   "source": [
    "class linkedList:\n",
    "    \n",
    "    # function to initialize the linked list object\n",
    "    \n",
    "    def __init__(self):\n",
    "        \n",
    "        self.head = None\n",
    "        \n",
    "    \n",
    "    def printList(self):\n",
    "        \n",
    "        node = self.head\n",
    "        \n",
    "        while node: \n",
    "            \n",
    "            print(node.data)\n",
    "            \n",
    "            node = node.next\n",
    "            \n",
    "    def addNodeAtStart(self, data):\n",
    "        \n",
    "        # create a new node\n",
    "        first = Node(data)\n",
    "        \n",
    "        # point the next pointer of the new node to the head of linked list (LL)\n",
    "        first.next = self.head\n",
    "        \n",
    "        # Reassign the head of LL to the new node\n",
    "        self.head = first\n",
    "        \n",
    "    def addAfterGivenNodeVal(self, prevNodeVal, data):\n",
    "        \n",
    "        nodeToAdd = Node(data)\n",
    "        \n",
    "        nodeVal = None\n",
    "        \n",
    "        node = self.head\n",
    "        \n",
    "        while nodeVal != prevNodeVal and node:\n",
    "            \n",
    "            nodePrev = node\n",
    "            nodeVal = node.data\n",
    "            node = node.next\n",
    "        \n",
    "        if node:\n",
    "            \n",
    "            nodePrev.next = nodeToAdd\n",
    "            nodeToAdd.next = node  \n",
    "            \n",
    "        else:\n",
    "            \n",
    "            print(\"The given value doesn't exist in the linked list!\")"
   ]
  },
  {
   "cell_type": "code",
   "execution_count": 76,
   "metadata": {
    "collapsed": true
   },
   "outputs": [],
   "source": [
    "ll = linkedList()\n",
    "\n",
    "first = Node(11)\n",
    "second = Node(22)\n",
    "third = Node(33)\n",
    "\n",
    "ll.head = first\n",
    "first.next = second\n",
    "second.next = third"
   ]
  },
  {
   "cell_type": "code",
   "execution_count": 77,
   "metadata": {
    "collapsed": true
   },
   "outputs": [],
   "source": [
    "ll.addNodeAtStart(10)"
   ]
  },
  {
   "cell_type": "code",
   "execution_count": 78,
   "metadata": {},
   "outputs": [
    {
     "name": "stdout",
     "output_type": "stream",
     "text": [
      "10\n",
      "11\n",
      "22\n",
      "33\n"
     ]
    }
   ],
   "source": [
    "ll.printList()"
   ]
  },
  {
   "cell_type": "code",
   "execution_count": 79,
   "metadata": {
    "collapsed": true
   },
   "outputs": [],
   "source": [
    "ll.addAfterGivenNodeVal(22, 222)"
   ]
  },
  {
   "cell_type": "code",
   "execution_count": 80,
   "metadata": {},
   "outputs": [
    {
     "name": "stdout",
     "output_type": "stream",
     "text": [
      "10\n",
      "11\n",
      "22\n",
      "222\n",
      "33\n"
     ]
    }
   ],
   "source": [
    "ll.printList()"
   ]
  },
  {
   "cell_type": "code",
   "execution_count": 81,
   "metadata": {},
   "outputs": [
    {
     "name": "stdout",
     "output_type": "stream",
     "text": [
      "The given value doesn't exist in the linked list!\n"
     ]
    }
   ],
   "source": [
    "ll.addAfterGivenNodeVal(44, 444)"
   ]
  },
  {
   "cell_type": "markdown",
   "metadata": {},
   "source": [
    "** We added a node after a given node value, let's add the node after the given node **"
   ]
  },
  {
   "cell_type": "code",
   "execution_count": 82,
   "metadata": {
    "collapsed": true
   },
   "outputs": [],
   "source": [
    "class linkedList:\n",
    "    \n",
    "    # function to initialize the linked list object\n",
    "    \n",
    "    def __init__(self):\n",
    "        \n",
    "        self.head = None\n",
    "        \n",
    "    \n",
    "    def printList(self):\n",
    "        \n",
    "        node = self.head\n",
    "        \n",
    "        while node: \n",
    "            \n",
    "            print(node.data)\n",
    "            \n",
    "            node = node.next\n",
    "            \n",
    "    def addNodeAtStart(self, data):\n",
    "        \n",
    "        # create a new node\n",
    "        first = Node(data)\n",
    "        \n",
    "        # point the next pointer of the new node to the head of linked list (LL)\n",
    "        first.next = self.head\n",
    "        \n",
    "        # Reassign the head of LL to the new node\n",
    "        self.head = first\n",
    "        \n",
    "    def addAfterGivenNodeVal(self, prevNodeVal, data):\n",
    "        \n",
    "        nodeToAdd = Node(data)\n",
    "        \n",
    "        nodeVal = None\n",
    "        \n",
    "        node = self.head\n",
    "        \n",
    "        while nodeVal != prevNodeVal and node:\n",
    "            \n",
    "            nodePrev = node\n",
    "            nodeVal = node.data\n",
    "            node = node.next\n",
    "        \n",
    "        if node:\n",
    "            \n",
    "            nodePrev.next = nodeToAdd\n",
    "            nodeToAdd.next = node  \n",
    "            \n",
    "        else:\n",
    "            \n",
    "            print(\"The given value doesn't exist in the linked list!\")\n",
    "            \n",
    "    def addAfterGivenNode(self, prevNode, newData):\n",
    "        \n",
    "        newNode = Node(newData)\n",
    "        \n",
    "        newNode.next = prevNode.next\n",
    "        \n",
    "        prevNode.next = newNode"
   ]
  },
  {
   "cell_type": "code",
   "execution_count": 83,
   "metadata": {
    "collapsed": true
   },
   "outputs": [],
   "source": [
    "ll = linkedList()\n",
    "\n",
    "first = Node(11)\n",
    "second = Node(22)\n",
    "third = Node(33)\n",
    "\n",
    "ll.head = first\n",
    "first.next = second\n",
    "second.next = third\n",
    "\n",
    "ll.addNodeAtStart(10)"
   ]
  },
  {
   "cell_type": "code",
   "execution_count": 84,
   "metadata": {},
   "outputs": [
    {
     "name": "stdout",
     "output_type": "stream",
     "text": [
      "10\n",
      "11\n",
      "22\n",
      "33\n"
     ]
    }
   ],
   "source": [
    "ll.printList()"
   ]
  },
  {
   "cell_type": "code",
   "execution_count": 85,
   "metadata": {
    "collapsed": true
   },
   "outputs": [],
   "source": [
    "ll.addAfterGivenNode(first, 111)"
   ]
  },
  {
   "cell_type": "code",
   "execution_count": 86,
   "metadata": {
    "scrolled": true
   },
   "outputs": [
    {
     "name": "stdout",
     "output_type": "stream",
     "text": [
      "10\n",
      "11\n",
      "111\n",
      "22\n",
      "33\n"
     ]
    }
   ],
   "source": [
    "ll.printList()"
   ]
  },
  {
   "cell_type": "code",
   "execution_count": 87,
   "metadata": {
    "collapsed": true
   },
   "outputs": [],
   "source": [
    "ll.addAfterGivenNode(Node(22), 222)"
   ]
  },
  {
   "cell_type": "code",
   "execution_count": 88,
   "metadata": {},
   "outputs": [
    {
     "name": "stdout",
     "output_type": "stream",
     "text": [
      "10\n",
      "11\n",
      "111\n",
      "22\n",
      "33\n"
     ]
    }
   ],
   "source": [
    "ll.printList()"
   ]
  },
  {
   "cell_type": "markdown",
   "metadata": {},
   "source": [
    "The aboove output makes sense."
   ]
  },
  {
   "cell_type": "code",
   "execution_count": 104,
   "metadata": {
    "collapsed": true
   },
   "outputs": [],
   "source": [
    "second2 = Node(22)"
   ]
  },
  {
   "cell_type": "code",
   "execution_count": 105,
   "metadata": {
    "collapsed": true
   },
   "outputs": [],
   "source": [
    "second3 = Node(22)"
   ]
  },
  {
   "cell_type": "code",
   "execution_count": 106,
   "metadata": {},
   "outputs": [
    {
     "data": {
      "text/plain": [
       "True"
      ]
     },
     "execution_count": 106,
     "metadata": {},
     "output_type": "execute_result"
    }
   ],
   "source": [
    "second2.data == second3.data"
   ]
  },
  {
   "cell_type": "code",
   "execution_count": 107,
   "metadata": {},
   "outputs": [
    {
     "data": {
      "text/plain": [
       "True"
      ]
     },
     "execution_count": 107,
     "metadata": {},
     "output_type": "execute_result"
    }
   ],
   "source": [
    "second2.next == second3.next"
   ]
  },
  {
   "cell_type": "code",
   "execution_count": 108,
   "metadata": {},
   "outputs": [
    {
     "data": {
      "text/plain": [
       "False"
      ]
     },
     "execution_count": 108,
     "metadata": {},
     "output_type": "execute_result"
    }
   ],
   "source": [
    "second2 == second3"
   ]
  },
  {
   "cell_type": "code",
   "execution_count": 109,
   "metadata": {},
   "outputs": [
    {
     "data": {
      "text/plain": [
       "<__main__.Node at 0x10671fe48>"
      ]
     },
     "execution_count": 109,
     "metadata": {},
     "output_type": "execute_result"
    }
   ],
   "source": [
    "second2"
   ]
  },
  {
   "cell_type": "code",
   "execution_count": 110,
   "metadata": {},
   "outputs": [
    {
     "data": {
      "text/plain": [
       "<__main__.Node at 0x10671fac8>"
      ]
     },
     "execution_count": 110,
     "metadata": {},
     "output_type": "execute_result"
    }
   ],
   "source": [
    "second3"
   ]
  },
  {
   "cell_type": "markdown",
   "metadata": {},
   "source": [
    "second2 and second3 are two different instances of the same class. They point to different memory locations in the heap. Whenever we create an instance of class, the value stored in that instance variable is the memory location of that object in the heap.  "
   ]
  },
  {
   "cell_type": "code",
   "execution_count": null,
   "metadata": {
    "collapsed": true
   },
   "outputs": [],
   "source": []
  }
 ],
 "metadata": {
  "kernelspec": {
   "display_name": "Python 3",
   "language": "python",
   "name": "python3"
  },
  "language_info": {
   "codemirror_mode": {
    "name": "ipython",
    "version": 3
   },
   "file_extension": ".py",
   "mimetype": "text/x-python",
   "name": "python",
   "nbconvert_exporter": "python",
   "pygments_lexer": "ipython3",
   "version": "3.6.3"
  }
 },
 "nbformat": 4,
 "nbformat_minor": 2
}
